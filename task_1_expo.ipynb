{
  "nbformat": 4,
  "nbformat_minor": 0,
  "metadata": {
    "colab": {
      "provenance": [],
      "authorship_tag": "ABX9TyPT3WGC18PwXvQoUROwTUUI",
      "include_colab_link": true
    },
    "kernelspec": {
      "name": "python3",
      "display_name": "Python 3"
    },
    "language_info": {
      "name": "python"
    }
  },
  "cells": [
    {
      "cell_type": "markdown",
      "metadata": {
        "id": "view-in-github",
        "colab_type": "text"
      },
      "source": [
        "<a href=\"https://colab.research.google.com/github/poojashresthacode/23-Homework6G5/blob/expo_function/Task_1_expo.ipynb\" target=\"_parent\"><img src=\"https://colab.research.google.com/assets/colab-badge.svg\" alt=\"Open In Colab\"/></a>"
      ]
    },
    {
      "cell_type": "code",
      "execution_count": 1,
      "metadata": {
        "id": "rXWH2q7zZyWz"
      },
      "outputs": [],
      "source": [
        "import numpy as np\n",
        "\n",
        "\n",
        "def simpson(f, a, b, n):\n",
        "    \"\"\"Approximates the definite integral of f from a to b by\n",
        "    the composite Simpson's rule, using n subintervals.\n",
        "    From http://en.wikipedia.org/wiki/Simpson's_rule\n",
        "    \"\"\"\n",
        "    h = (b - a) / n\n",
        "    i = np.arange(0,n)\n",
        "\n",
        "    s = f(a) + f(b)\n",
        "    s += 4 * np.sum( f( a + i[1::2] * h ) )\n",
        "    s += 2 * np.sum( f( a + i[2:-1:2] * h ) )\n",
        "\n",
        "    return s * h / 3\n",
        "\n",
        "def trapezoid(f, a, b, n):\n",
        "    \"\"\"Approximates the definite integral of f from a to b by\n",
        "    the composite trapezoidal rule, using n subintervals.\n",
        "    From http://en.wikipedia.org/wiki/Trapezoidal_rule\n",
        "    \"\"\"\n",
        "    h = (b - a) / n\n",
        "    s = f(a) + f(b)\n",
        "    i = np.arange(0,n)\n",
        "    s += 2 * np.sum( f(a + i[1:] * h) )\n",
        "    return s * h / 2\n",
        "\n",
        "\n",
        "def adaptive_trapezoid(f, a, b, acc, output=False):\n",
        "    \"\"\"\n",
        "    Uses the adaptive trapezoidal method to compute the definite integral\n",
        "    of f from a to b to desired accuracy acc.\n",
        "    \"\"\"\n",
        "    old_s = np.inf\n",
        "    h = b - a\n",
        "    n = 1\n",
        "    s = (f(a) + f(b)) * 0.5\n",
        "    if output == True :\n",
        "        print (\"N = \" + str(n+1) + \",  Integral = \" + str( h*s ))\n",
        "    while abs(h * (old_s - s*0.5)) > acc :\n",
        "        old_s = s\n",
        "        for i in np.arange(n) :\n",
        "            s += f(a + (i + 0.5) * h)\n",
        "        n *= 2.\n",
        "        h *= 0.5\n",
        "        if output == True :\n",
        "            print (\"N = \" + str(n) + \",  Integral = \" + str( h*s ))\n",
        "    return h * s"
      ]
    },
    {
      "cell_type": "code",
      "source": [
        "%%writefile calculus.py"
      ],
      "metadata": {
        "colab": {
          "base_uri": "https://localhost:8080/"
        },
        "id": "_akDDRBtaHCi",
        "outputId": "98183584-ccf7-4c85-d751-bf17b84bc2ce"
      },
      "execution_count": 2,
      "outputs": [
        {
          "output_type": "stream",
          "name": "stdout",
          "text": [
            "Writing calculus.py\n"
          ]
        }
      ]
    },
    {
      "cell_type": "code",
      "source": [
        "import numpy as np\n",
        "import matplotlib.pyplot as plt\n",
        "from calculus import *"
      ],
      "metadata": {
        "id": "FUpkP0ZxaMYH"
      },
      "execution_count": 3,
      "outputs": []
    },
    {
      "cell_type": "code",
      "source": [
        "\n",
        "# Define the function exp(-1/x)\n",
        "def exp_func(x):\n",
        "    # Avoid zero\n",
        "    epsilon = 1e-10\n",
        "    return np.where(np.abs(x) < epsilon, np.nan, np.exp(-1 / x))\n",
        "\n",
        "# Define integration bounds and the number of subintervals\n",
        "a_exp = 1e-10\n",
        "b_exp = 50\n",
        "n_exp = 10\n",
        "\n",
        "# Calculate and print results using the trapezoidal rule\n",
        "ans_exp_trapezoid = trapezoid(exp_func, a_exp, b_exp, n_exp)\n",
        "print('Trapezoidal rule result for exp(-1/x):', ans_exp_trapezoid)\n",
        "\n",
        "# Calculate and print results using Simpson's rule\n",
        "ans_exp_simpson = simpson(exp_func, a_exp, b_exp, n_exp)\n",
        "print('Simpson\\'s rule result for exp(-1/x):', ans_exp_simpson)\n",
        "\n",
        "# Calculate and print the result using the adaptive trapezoidal rule for exp(-1/x)\n",
        "ans_adaptive_trapezoid_exp = adaptive_trapezoid(exp_func, a_exp, b_exp, 0.0001, output=True)\n",
        "print('Adaptive trapezoidal rule result for exp(-1/x):', ans_adaptive_trapezoid_exp)\n"
      ],
      "metadata": {
        "colab": {
          "base_uri": "https://localhost:8080/"
        },
        "id": "vzisKp4XamgN",
        "outputId": "b3443971-282c-4e30-dba3-8b4e73552ba3"
      },
      "execution_count": 10,
      "outputs": [
        {
          "output_type": "stream",
          "name": "stdout",
          "text": [
            "Trapezoidal rule result for exp(-1/x): 44.767875582331264\n",
            "Simpson's rule result for exp(-1/x): 45.394860137465905\n",
            "N = 2,  Integral = 24.50496683261987\n",
            "N = 2.0,  Integral = 36.2722193950719\n",
            "N = 4.0,  Integral = 41.84613589424154\n",
            "N = 8.0,  Integral = 44.33629552340518\n",
            "N = 16.0,  Integral = 45.32211379318896\n",
            "N = 32.0,  Integral = 45.62074101600314\n",
            "N = 64.0,  Integral = 45.66332231905843\n",
            "N = 128.0,  Integral = 45.656444665639235\n",
            "N = 256.0,  Integral = 45.65514251840915\n",
            "N = 512.0,  Integral = 45.6552280711973\n",
            "Adaptive trapezoidal rule result for exp(-1/x): 45.6552280711973\n"
          ]
        }
      ]
    },
    {
      "cell_type": "code",
      "source": [
        "# Plot the function\n",
        "x_values = np.linspace(a_exp, b_exp, 1000)\n",
        "y_values = exp_func(x_values)\n",
        "\n",
        "plt.figure(figsize=(10, 6))\n",
        "\n",
        "# Plot the function\n",
        "plt.plot(x_values, y_values, label=r'$e^{-1/x}$', color='blue')\n",
        "\n",
        "# Highlight the integration area\n",
        "plt.axvline(a_exp, color='red', linestyle='--', label='Integration Bounds')\n",
        "plt.axvline(b_exp, color='red', linestyle='--')\n",
        "\n",
        "# Show the legend\n",
        "plt.legend()\n",
        "\n",
        "# Set plot labels and title\n",
        "plt.xlabel('x')\n",
        "plt.ylabel(r'$e^{-1/x}$')\n",
        "plt.title('Function $e^{-1/x}$ and its Integration')\n",
        "\n",
        "# Show the plot\n",
        "plt.show()"
      ],
      "metadata": {
        "colab": {
          "base_uri": "https://localhost:8080/",
          "height": 568
        },
        "id": "U2gD1sku6LZh",
        "outputId": "652f2851-dcae-453f-b86a-c0ff6b885384"
      },
      "execution_count": 8,
      "outputs": [
        {
          "output_type": "display_data",
          "data": {
            "text/plain": [
              "<Figure size 1000x600 with 1 Axes>"
            ],
            "image/png": "[encoded data removed]"
          },
          "metadata": {}
        }
      ]
    },
    {
      "cell_type": "code",
      "source": [
        "\n",
        "def calculate_accuracy(true_value, computed_value):\n",
        "    \"\"\"\n",
        "    Calculates the accuracy in terms of correct digits.\n",
        "    \"\"\"\n",
        "    true_str = \"{:.10f}\".format(true_value)\n",
        "    computed_str = \"{:.10f}\".format(computed_value)\n",
        "\n",
        "    num_correct_digits = sum(a == b for a, b in zip(true_str, computed_str))\n",
        "    return num_correct_digits\n",
        "\n",
        "def compare_integration_methods(true_value, method_results):\n",
        "    \"\"\"\n",
        "    Compares the accuracies and efficiencies of integration methods.\n",
        "    \"\"\"\n",
        "    print(\"Integration Method\\tAccuracy (Correct Digits)\\tEfficiency (Number of Steps)\")\n",
        "    print(\"-\" * 70)\n",
        "\n",
        "    for method, (result, steps) in method_results.items():\n",
        "        accuracy = calculate_accuracy(true_value, result)\n",
        "        print(f\"{method}\\t\\t\\t{accuracy}\\t\\t\\t\\t{steps}\")\n",
        "\n",
        "# Define the true integral value (we need to set this based on your expectations)\n",
        "true_integral_value = 45.6552294298  # Update this with the actual true value\n",
        "\n",
        "# Results obtained from integration methods\n",
        "method_results = {\n",
        "    \"Trapezoidal Rule\": (44.767875582331264, 10),\n",
        "    \"Simpson's Rule\": (45.394860137465905, 10),\n",
        "    \"Adaptive Trapezoidal Rule\": (45.6552280711973, 512)\n",
        "}\n",
        "\n",
        "# Compare accuracies and efficiencies\n",
        "compare_integration_methods(true_integral_value, method_results)\n"
      ],
      "metadata": {
        "id": "m_RUwGbwMsma",
        "colab": {
          "base_uri": "https://localhost:8080/"
        },
        "outputId": "639d6a49-fa05-4e67-e338-365890d33605"
      },
      "execution_count": 9,
      "outputs": [
        {
          "output_type": "stream",
          "name": "stdout",
          "text": [
            "Integration Method\tAccuracy (Correct Digits)\tEfficiency (Number of Steps)\n",
            "----------------------------------------------------------------------\n",
            "Trapezoidal Rule\t\t\t2\t\t\t\t10\n",
            "Simpson's Rule\t\t\t3\t\t\t\t10\n",
            "Adaptive Trapezoidal Rule\t\t\t8\t\t\t\t512\n"
          ]
        }
      ]
    }
  ]
}
